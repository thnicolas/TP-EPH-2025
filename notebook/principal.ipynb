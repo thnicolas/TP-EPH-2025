{
 "cells": [
  {
   "cell_type": "code",
   "execution_count": null,
   "id": "202e8adc",
   "metadata": {},
   "outputs": [
    {
     "name": "stdout",
     "output_type": "stream",
     "text": [
      "🔹 Resultados ponderados:\n",
      "   - Varones: 14471801.00\n",
      "   - Mujeres: 15248344.00\n",
      "la cantidad de adultos con secundario finalizado es: 5834321.0\n",
      "el porcentaje de viviendas propias es: 60.00147011529413\n"
     ]
    },
    {
     "ename": "AttributeError",
     "evalue": "module 'src.nombres_aglomerados' has no attribute 'get'",
     "output_type": "error",
     "traceback": [
      "\u001b[31m---------------------------------------------------------------------------\u001b[39m",
      "\u001b[31mAttributeError\u001b[39m                            Traceback (most recent call last)",
      "\u001b[36mCell\u001b[39m\u001b[36m \u001b[39m\u001b[32mIn[1]\u001b[39m\u001b[32m, line 31\u001b[39m\n\u001b[32m     28\u001b[39m conteo = contar_aglomerados(\u001b[33m\"\u001b[39m\u001b[33musu_hogar_T324.txt\u001b[39m\u001b[33m\"\u001b[39m)\n\u001b[32m     29\u001b[39m max_aglo, max_cant, min_aglo, min_cant = obtener_max_min(conteo)\n\u001b[32m---> \u001b[39m\u001b[32m31\u001b[39m nombre_max = \u001b[43mnombres_aglomerados\u001b[49m\u001b[43m.\u001b[49m\u001b[43mget\u001b[49m(max_aglo, \u001b[33mf\u001b[39m\u001b[33m\"\u001b[39m\u001b[33mAglomerado \u001b[39m\u001b[38;5;132;01m{\u001b[39;00mmax_aglo\u001b[38;5;132;01m}\u001b[39;00m\u001b[33m\"\u001b[39m)\n\u001b[32m     32\u001b[39m nombre_min = nombres_aglomerados.get(min_aglo, \u001b[33mf\u001b[39m\u001b[33m\"\u001b[39m\u001b[33mAglomerado \u001b[39m\u001b[38;5;132;01m{\u001b[39;00mmin_aglo\u001b[38;5;132;01m}\u001b[39;00m\u001b[33m\"\u001b[39m)\n\u001b[32m     34\u001b[39m \u001b[38;5;28mprint\u001b[39m(\u001b[33m\"\u001b[39m\u001b[33m🔝 Aglomerado con MÁS hogares de 2 personas sin baño:\u001b[39m\u001b[33m\"\u001b[39m, nombre_max, \u001b[33m\"\u001b[39m\u001b[33m-\u001b[39m\u001b[33m\"\u001b[39m, max_cant)\n",
      "\u001b[31mAttributeError\u001b[39m: module 'src.nombres_aglomerados' has no attribute 'get'"
     ]
    }
   ],
   "source": [
    "import os\n",
    "import sys\n",
    "\n",
    "# Subir un nivel desde notebook/ para acceder a src/\n",
    "sys.path.append(os.path.abspath(\"..\"))\n",
    "\n",
    "# Importar la función\n",
    "from src.varones_y_mujeres import contar_sexo_ponderado\n",
    "from src.Secundario import contar_mayores_con_secundario\n",
    "from src.vivienda_propia import porcentaje_viviendas_propia\n",
    "\n",
    "# Ejecutar la función\n",
    "varones, mujeres = contar_sexo_ponderado(\"usu_individual_T324.txt\")\n",
    "total = contar_mayores_con_secundario(\"usu_individual_T324.txt\")\n",
    "porcentaje_vivienda_prop = porcentaje_viviendas_propia (\"usu_hogar_T324.txt\")\n",
    "\n",
    "# Mostrar los resultados\n",
    "print(\"🔹 Resultados ponderados:\")\n",
    "print(f\"   - Varones: {varones:.2f}\")\n",
    "print(f\"   - Mujeres: {mujeres:.2f}\")\n",
    "print (f\"la cantidad de adultos con secundario finalizado es: {total}\")\n",
    "print (f\"el porcentaje de viviendas propias es: {porcentaje_vivienda_prop}\")\n",
    "\n",
    "from src.aglomerados import contar_aglomerados, obtener_max_min\n",
    "from src.nombres_aglomerados import aglomerados as nombres_aglomerados\n",
    "\n",
    "\n",
    "conteo = contar_aglomerados(\"usu_hogar_T324.txt\")\n",
    "max_aglo, max_cant, min_aglo, min_cant = obtener_max_min(conteo)\n",
    "\n",
    "nombre_max = nombres_aglomerados.get(max_aglo, f\"Aglomerado {max_aglo}\")\n",
    "nombre_min = nombres_aglomerados.get(min_aglo, f\"Aglomerado {min_aglo}\")\n",
    "\n",
    "print(\"🔝 Aglomerado con MÁS hogares de 2 personas sin baño:\", nombre_max, \"-\", max_cant)\n",
    "print(\"🔻 Aglomerado con MENOS hogares de 2 personas sin baño:\", nombre_min, \"-\", min_cant)\n",
    "\n"
   ]
  }
 ],
 "metadata": {
  "kernelspec": {
   "display_name": "venv",
   "language": "python",
   "name": "python3"
  },
  "language_info": {
   "codemirror_mode": {
    "name": "ipython",
    "version": 3
   },
   "file_extension": ".py",
   "mimetype": "text/x-python",
   "name": "python",
   "nbconvert_exporter": "python",
   "pygments_lexer": "ipython3",
   "version": "3.12.9"
  }
 },
 "nbformat": 4,
 "nbformat_minor": 5
}
