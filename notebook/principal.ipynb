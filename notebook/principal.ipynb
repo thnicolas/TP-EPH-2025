{
 "cells": [
  {
   "cell_type": "code",
   "execution_count": 2,
   "id": "202e8adc",
   "metadata": {},
   "outputs": [
    {
     "name": "stdout",
     "output_type": "stream",
     "text": [
      "🔹 Resultados ponderados:\n",
      "   - Varones: 14471899.00\n",
      "   - Mujeres: 15248384.00\n",
      "la cantidad de adultos con secundario finalizado es: 5834321.0\n",
      "el porcentaje de viviendas propias es: 0.0\n"
     ]
    }
   ],
   "source": [
    "import os\n",
    "import sys\n",
    "\n",
    "# Subir un nivel desde notebook/ para acceder a src/\n",
    "sys.path.append(os.path.abspath(\"..\"))\n",
    "\n",
    "# Importar la función\n",
    "from src.varones_y_mujeres import contar_sexo_ponderado\n",
    "from src.Secundario import contar_mayores_con_secundario\n",
    "from src.vivienda_propia import porcentaje_viviendas_propia\n",
    "\n",
    "# Ejecutar la función\n",
    "varones, mujeres = contar_sexo_ponderado(\"usu_individual_T324.txt\")\n",
    "total = contar_mayores_con_secundario(\"usu_individual_T324.txt\")\n",
    "porcentaje_vivienda_prop = porcentaje_viviendas_propia (\"usu_hogar_T324.txt\")\n",
    "\n",
    "# Mostrar los resultados\n",
    "print(\"🔹 Resultados ponderados:\")\n",
    "print(f\"   - Varones: {varones:.2f}\")\n",
    "print(f\"   - Mujeres: {mujeres:.2f}\")\n",
    "print (f\"la cantidad de adultos con secundario finalizado es: {total}\")\n",
    "print (f\"el porcentaje de viviendas propias es: {porcentaje_vivienda_prop}\")\n"
   ]
  }
 ],
 "metadata": {
  "kernelspec": {
   "display_name": "venv",
   "language": "python",
   "name": "python3"
  },
  "language_info": {
   "codemirror_mode": {
    "name": "ipython",
    "version": 3
   },
   "file_extension": ".py",
   "mimetype": "text/x-python",
   "name": "python",
   "nbconvert_exporter": "python",
   "pygments_lexer": "ipython3",
   "version": "3.12.9"
  }
 },
 "nbformat": 4,
 "nbformat_minor": 5
}
